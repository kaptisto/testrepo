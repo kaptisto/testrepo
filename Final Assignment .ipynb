{
 "cells": [
  {
   "cell_type": "markdown",
   "id": "94ecd77b-5123-43f8-b521-a88f320d9010",
   "metadata": {},
   "source": [
    "# Data Science Tools and Ecosystem"
   ]
  },
  {
   "cell_type": "markdown",
   "id": "b0166512-9928-401f-a0c9-2c6586ee32f8",
   "metadata": {},
   "source": [
    "In this notebook, Data Science Tools and Ecosystem are summarized."
   ]
  },
  {
   "cell_type": "markdown",
   "id": "16620b2b-fc1d-4470-9c77-af78662dcdfa",
   "metadata": {},
   "source": [
    "__Objectives:__\n",
    "- most common data science languages\n",
    "- how to do simple arithmetiks\n",
    "- how to insert text in different style"
   ]
  },
  {
   "cell_type": "markdown",
   "id": "32a4adf5-5cbd-46e8-b93c-4922753a61a7",
   "metadata": {},
   "source": [
    "## Author\n",
    "Jeannette Kopp"
   ]
  },
  {
   "cell_type": "markdown",
   "id": "395cdeec-413d-4fa1-8cac-17955c48bca2",
   "metadata": {},
   "source": [
    "Some of the popular languages that Data Scientists use are:\n",
    "1. Python\n",
    "2. R\n",
    "3. SQL\n",
    "4. Scala\n",
    "5. Java"
   ]
  },
  {
   "cell_type": "markdown",
   "id": "d3b3cf05-23ed-4510-a6fb-d106b4f2a7b3",
   "metadata": {},
   "source": [
    "Some of the commonly used libraries used by Data Scientists include:\n",
    "1. NumPy\n",
    "2. Pandas\n",
    "3. Matplotlib\n",
    "4. ggplot2"
   ]
  },
  {
   "cell_type": "markdown",
   "id": "c9e77528-9fe2-47b3-bd9f-4cd1ee269b8b",
   "metadata": {
    "tags": []
   },
   "source": [
    "| Data Science Tools |\n",
    "| --- |\n",
    "| Apache Hadoop |\n",
    "| Tableau |\n",
    "| TensorFlow |\n",
    "| IBM Watson |"
   ]
  },
  {
   "cell_type": "markdown",
   "id": "2c45cad2-bc78-4664-81a8-3b3e06f5875a",
   "metadata": {
    "tags": []
   },
   "source": [
    "### Below are a few examples of evaluating arithmetic expressions in Python"
   ]
  },
  {
   "cell_type": "code",
   "execution_count": 4,
   "id": "1481b7ef-4425-449b-abc2-275e246e052e",
   "metadata": {},
   "outputs": [
    {
     "name": "stdout",
     "output_type": "stream",
     "text": [
      "17\n"
     ]
    }
   ],
   "source": [
    "#This a simple arithmetic expression to mutiply then add integers\n",
    "print((3*4)+5)"
   ]
  },
  {
   "cell_type": "code",
   "execution_count": 5,
   "id": "6a9f4817-67b1-49fd-bd1f-193a81a5208d",
   "metadata": {},
   "outputs": [
    {
     "name": "stdout",
     "output_type": "stream",
     "text": [
      "3.3333333333333335\n"
     ]
    }
   ],
   "source": [
    "#This will convert 200 minutes to hours by diving by 60\n",
    "print(200/60)"
   ]
  },
  {
   "cell_type": "markdown",
   "id": "ec3baebc-97ad-4dbc-b010-fca0575d0826",
   "metadata": {},
   "source": []
  }
 ],
 "metadata": {
  "kernelspec": {
   "display_name": "Python 3 (ipykernel)",
   "language": "python",
   "name": "python3"
  },
  "language_info": {
   "codemirror_mode": {
    "name": "ipython",
    "version": 3
   },
   "file_extension": ".py",
   "mimetype": "text/x-python",
   "name": "python",
   "nbconvert_exporter": "python",
   "pygments_lexer": "ipython3",
   "version": "3.9.7"
  }
 },
 "nbformat": 4,
 "nbformat_minor": 5
}
