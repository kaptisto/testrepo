{
 "cells": [
  {
   "cell_type": "markdown",
   "id": "15a4bcf0-2c2a-4400-b749-4a0e6ccd9f89",
   "metadata": {},
   "source": [
    "# My Jupyter Notebook"
   ]
  },
  {
   "cell_type": "markdown",
   "id": "b2c42220-81ba-4ad8-a057-83007f91f76c",
   "metadata": {},
   "source": [
    "__Jeannette Kopp__"
   ]
  },
  {
   "cell_type": "markdown",
   "id": "7639e875-7968-410c-b72c-dbb43d83fca0",
   "metadata": {},
   "source": [
    "human, woman, learning creature :-)"
   ]
  },
  {
   "cell_type": "markdown",
   "id": "92ecd45d-1dfb-4ec4-8647-253adbb70890",
   "metadata": {},
   "source": [
    "_I'm interested in data science because I work with lots of data and want to have more insights. I'm also a little tech nerd who likes to use data to make better home automation._ "
   ]
  },
  {
   "cell_type": "markdown",
   "id": "5b913935-1d99-4675-9d21-33caacf75b7f",
   "metadata": {},
   "source": [
    "### the following code will give back the sentence \"This is my first code\""
   ]
  },
  {
   "cell_type": "code",
   "execution_count": 2,
   "id": "4740f94d-da15-4a67-b134-4c01951b21a5",
   "metadata": {},
   "outputs": [
    {
     "name": "stdout",
     "output_type": "stream",
     "text": [
      "This is my fist code\n"
     ]
    }
   ],
   "source": [
    "print(\"This is my fist code\")"
   ]
  },
  {
   "cell_type": "markdown",
   "id": "019363e1-2470-4442-b019-e82911655898",
   "metadata": {},
   "source": [
    "1. Trees <br>\n",
    "    1.1. x<br>\n",
    "    1.2. y<br>\n",
    "    1.3 z<br>\n",
    "2. Animals<br>\n",
    "    2.1. a<br>\n",
    "    2.2. b<br>\n",
    "    \n",
    "    \n",
    "__[BOSCH.com](https://www.bosch.com/)__\n",
    "\n",
    "~~That text will be strikedout.~~"
   ]
  },
  {
   "cell_type": "code",
   "execution_count": null,
   "id": "33fc8543-23c4-4a49-8149-e1bbe8fcd3c7",
   "metadata": {},
   "outputs": [],
   "source": []
  }
 ],
 "metadata": {
  "kernelspec": {
   "display_name": "Python 3 (ipykernel)",
   "language": "python",
   "name": "python3"
  },
  "language_info": {
   "codemirror_mode": {
    "name": "ipython",
    "version": 3
   },
   "file_extension": ".py",
   "mimetype": "text/x-python",
   "name": "python",
   "nbconvert_exporter": "python",
   "pygments_lexer": "ipython3",
   "version": "3.9.7"
  }
 },
 "nbformat": 4,
 "nbformat_minor": 5
}
